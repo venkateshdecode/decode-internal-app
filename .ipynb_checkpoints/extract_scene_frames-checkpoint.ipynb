{
 "cells": [
  {
   "cell_type": "markdown",
   "source": [
    "# Extract Scene Frames from Videos"
   ],
   "metadata": {
    "collapsed": false
   }
  },
  {
   "cell_type": "markdown",
   "source": [
    "# required Input"
   ],
   "metadata": {
    "collapsed": false
   }
  },
  {
   "cell_type": "code",
   "execution_count": 8,
   "outputs": [
    {
     "name": "stdout",
     "output_type": "stream",
     "text": [
      "The autoreload extension is already loaded. To reload it, use:\n",
      "  %reload_ext autoreload\n"
     ]
    }
   ],
   "source": [
    "%load_ext autoreload\n",
    "%autoreload 2\n",
    "\n",
    "input_folder: str = \"test_videos\" # folder with (subfolders of) videos\n",
    "output_folder: str = \"test_videos_frames\" # folder with extracted scene images (one subfolder per video), will be created if not existant\n",
    "file_extensions_video = ['mpeg', 'mp4', 'gif', 'avi']\n",
    "\n",
    "n_scene_frames = 3 #number of frames extracted per scene\n",
    "\n",
    "image_length_max = 500 # size of extracted frames\n",
    "\n"
   ],
   "metadata": {
    "collapsed": false
   }
  },
  {
   "cell_type": "code",
   "execution_count": 9,
   "outputs": [],
   "source": [
    "import os\n",
    "try:\n",
    "    import scenedetect\n",
    "except:\n",
    "    os.system(\"pip install scenedetect==0.5.5 --quiet\")\n",
    "    pass\n",
    "\n",
    "try:\n",
    "    import cv2\n",
    "except:\n",
    "    os.system(\"pip install opencv-python==4.5.3.56 --quiet\")\n",
    "    pass\n",
    "\n",
    "try:\n",
    "    import timm\n",
    "except:\n",
    "    os.system(\"pip install timm\")\n",
    "    pass\n",
    "\n",
    "try:\n",
    "    import tqdm\n",
    "except:\n",
    "    os.system(\"pip install tqdm\")\n",
    "    pass\n",
    "\n",
    "try:\n",
    "    import sklearn\n",
    "except:\n",
    "    os.system(\"pip install scikit-learn --quiet\")\n",
    "    pass\n",
    "\n",
    "def load_timm_model(model_name=\"inception_v4\"):\n",
    "    model = timm.create_model(model_name, pretrained=True, num_classes=0)\n",
    "    model.eval()\n",
    "    return model"
   ],
   "metadata": {
    "collapsed": false
   }
  },
  {
   "cell_type": "code",
   "execution_count": 15,
   "outputs": [
    {
     "name": "stdout",
     "output_type": "stream",
     "text": [
      "model config {'input_size': (3, 224, 224), 'interpolation': 'bicubic', 'mean': (0.485, 0.456, 0.406), 'std': (0.229, 0.224, 0.225), 'crop_pct': 0.875}\n"
     ]
    }
   ],
   "source": [
    "\n",
    "from src.image_utils import image_resize\n",
    "from src.embedder import Embedder\n",
    "from src.video_utils import get_video_format, get_frames\n",
    "from src.scene_detection import SceneDetector\n",
    "\n",
    "scene_frame_col = \"scene_image_path\"\n",
    "timm_models = [\"convnext_xlarge_in22k\", \"ig_resnext101_32x48d\", \"vgg16\", \"resnet50d\"]\n",
    "embedder = Embedder(load_timm_model(timm_models[0]))\n",
    "\n",
    "tmp_dir = \"tmp\" #to store extracted frames, will be deleted once program is done\n",
    "if not os.path.isdir(tmp_dir):\n",
    "    os.makedirs(tmp_dir, exist_ok=True)\n",
    "\n",
    "if not os.path.isdir(output_folder):\n",
    "    os.makedirs(output_folder, exist_ok=True)\n"
   ],
   "metadata": {
    "collapsed": false
   }
  },
  {
   "cell_type": "code",
   "execution_count": 16,
   "outputs": [
    {
     "name": "stdout",
     "output_type": "stream",
     "text": [
      "\n",
      "given defined file extensions,found 2 videos \n"
     ]
    }
   ],
   "source": [
    "import os\n",
    "video_paths = []\n",
    "for path, _, files in os.walk(input_folder):\n",
    "    for f in files:\n",
    "        f_ext = os.path.splitext(f)[1]\n",
    "        f_ext = f_ext.replace(\".\", \"\")\n",
    "        if f_ext in file_extensions_video:\n",
    "            video_paths.append(os.path.join(path, f))\n",
    "\n",
    "print(f\"\\ngiven defined file extensions,found {len(video_paths)} videos \")\n"
   ],
   "metadata": {
    "collapsed": false
   }
  },
  {
   "cell_type": "code",
   "execution_count": 17,
   "outputs": [
    {
     "data": {
      "text/plain": "  0%|          | 0/2 [00:00<?, ?it/s]",
      "application/vnd.jupyter.widget-view+json": {
       "version_major": 2,
       "version_minor": 0,
       "model_id": "0442117de594423e8c2ba764545df6df"
      },
      "application/json": {
       "n": 0,
       "total": 2,
       "elapsed": 0.013317346572875977,
       "ncols": null,
       "nrows": 11,
       "prefix": "",
       "ascii": false,
       "unit": "it",
       "unit_scale": false,
       "rate": null,
       "bar_format": null,
       "postfix": null,
       "unit_divisor": 1000,
       "initial": 0,
       "colour": null
      }
     },
     "metadata": {},
     "output_type": "display_data"
    },
    {
     "name": "stdout",
     "output_type": "stream",
     "text": [
      "processing video Dawn_Powerwash_Pass The Power_US ENG 15 (2).mp4\n"
     ]
    },
    {
     "name": "stderr",
     "output_type": "stream",
     "text": [
      "\n",
      "  0%|                                                                                                                                                                                                                                                                          | 0/451 [00:00<?, ?frames/s]\u001B[A\n",
      "  4%|██████████▏                                                                                                                                                                                                                                                     | 18/451 [00:00<00:02, 177.96frames/s]\u001B[A\n",
      " 10%|█████████████████████████▌                                                                                                                                                                                                                                      | 45/451 [00:00<00:01, 231.15frames/s]\u001B[A\n",
      " 16%|██████████████████████████████████████████                                                                                                                                                                                                                      | 74/451 [00:00<00:01, 255.18frames/s]\u001B[A\n",
      " 22%|█████████████████████████████████████████████████████████                                                                                                                                                                                                      | 101/451 [00:00<00:01, 257.55frames/s]\u001B[A\n",
      " 29%|████████████████████████████████████████████████████████████████████████▉                                                                                                                                                                                      | 129/451 [00:00<00:01, 265.52frames/s]\u001B[A\n",
      " 35%|████████████████████████████████████████████████████████████████████████████████████████▊                                                                                                                                                                      | 157/451 [00:00<00:01, 268.36frames/s]\u001B[A\n",
      " 41%|████████████████████████████████████████████████████████████████████████████████████████████████████████                                                                                                                                                       | 184/451 [00:00<00:01, 263.70frames/s]\u001B[A\n",
      " 47%|███████████████████████████████████████████████████████████████████████████████████████████████████████████████████████▎                                                                                                                                       | 211/451 [00:00<00:00, 261.72frames/s]\u001B[A\n",
      " 53%|██████████████████████████████████████████████████████████████████████████████████████████████████████████████████████████████████████▌                                                                                                                        | 238/451 [00:00<00:00, 257.26frames/s]\u001B[A\n",
      " 59%|█████████████████████████████████████████████████████████████████████████████████████████████████████████████████████████████████████████████████████▎                                                                                                         | 264/451 [00:01<00:00, 256.06frames/s]\u001B[A\n",
      " 65%|████████████████████████████████████████████████████████████████████████████████████████████████████████████████████████████████████████████████████████████████████▌                                                                                          | 291/451 [00:01<00:00, 257.82frames/s]\u001B[A\n",
      " 70%|███████████████████████████████████████████████████████████████████████████████████████████████████████████████████████████████████████████████████████████████████████████████████▏                                                                           | 317/451 [00:01<00:00, 250.72frames/s]\u001B[A\n",
      " 77%|████████████████████████████████████████████████████████████████████████████████████████████████████████████████████████████████████████████████████████████████████████████████████████████████████▊                                                          | 348/451 [00:01<00:00, 266.06frames/s]\u001B[A\n",
      " 83%|████████████████████████████████████████████████████████████████████████████████████████████████████████████████████████████████████████████████████████████████████████████████████████████████████████████████████▌                                          | 376/451 [00:01<00:00, 269.46frames/s]\u001B[A\n",
      " 90%|█████████████████████████████████████████████████████████████████████████████████████████████████████████████████████████████████████████████████████████████████████████████████████████████████████████████████████████████████████▌                         | 406/451 [00:01<00:00, 277.52frames/s]\u001B[A\n",
      "100%|███████████████████████████████████████████████████████████████████████████████████████████████████████████████████████████████████████████████████████████████████████████████████████████████████████████████████████████████████████████████████████████████| 451/451 [00:01<00:00, 265.13frames/s]\u001B[A\n"
     ]
    },
    {
     "name": "stdout",
     "output_type": "stream",
     "text": [
      "found 24 scenes - extracting 3 frames per scene\n",
      "processing video Dawn_Powerwash_Pass The Power_US ENG 15 (2) - Kopie.mp4\n"
     ]
    },
    {
     "name": "stderr",
     "output_type": "stream",
     "text": [
      "\n",
      "  0%|                                                                                                                                                                                                                                                                          | 0/451 [00:00<?, ?frames/s]\u001B[A\n",
      "  5%|█████████████                                                                                                                                                                                                                                                   | 23/451 [00:00<00:01, 223.91frames/s]\u001B[A\n",
      " 11%|████████████████████████████▉                                                                                                                                                                                                                                   | 51/451 [00:00<00:01, 249.93frames/s]\u001B[A\n",
      " 18%|████████████████████████████████████████████▊                                                                                                                                                                                                                   | 79/451 [00:00<00:01, 261.73frames/s]\u001B[A\n",
      " 24%|███████████████████████████████████████████████████████████▉                                                                                                                                                                                                   | 106/451 [00:00<00:01, 260.26frames/s]\u001B[A\n",
      " 30%|███████████████████████████████████████████████████████████████████████████▊                                                                                                                                                                                   | 134/451 [00:00<00:01, 265.46frames/s]\u001B[A\n",
      " 36%|███████████████████████████████████████████████████████████████████████████████████████████▌                                                                                                                                                                   | 162/451 [00:00<00:01, 268.41frames/s]\u001B[A\n",
      " 42%|███████████████████████████████████████████████████████████████████████████████████████████████████████████▉                                                                                                                                                   | 191/451 [00:00<00:00, 272.44frames/s]\u001B[A\n",
      " 49%|███████████████████████████████████████████████████████████████████████████████████████████████████████████████████████████▊                                                                                                                                   | 219/451 [00:00<00:00, 271.93frames/s]\u001B[A\n",
      " 55%|███████████████████████████████████████████████████████████████████████████████████████████████████████████████████████████████████████████▋                                                                                                                   | 247/451 [00:00<00:00, 273.26frames/s]\u001B[A\n",
      " 61%|███████████████████████████████████████████████████████████████████████████████████████████████████████████████████████████████████████████████████████████▍                                                                                                   | 275/451 [00:01<00:00, 269.98frames/s]\u001B[A\n",
      " 67%|███████████████████████████████████████████████████████████████████████████████████████████████████████████████████████████████████████████████████████████████████████████▎                                                                                   | 303/451 [00:01<00:00, 263.59frames/s]\u001B[A\n",
      " 73%|██████████████████████████████████████████████████████████████████████████████████████████████████████████████████████████████████████████████████████████████████████████████████████████▌                                                                    | 330/451 [00:01<00:00, 264.10frames/s]\u001B[A\n",
      " 79%|█████████████████████████████████████████████████████████████████████████████████████████████████████████████████████████████████████████████████████████████████████████████████████████████████████████▊                                                     | 357/451 [00:01<00:00, 254.70frames/s]\u001B[A\n",
      " 86%|██████████████████████████████████████████████████████████████████████████████████████████████████████████████████████████████████████████████████████████████████████████████████████████████████████████████████████████▊                                    | 387/451 [00:01<00:00, 264.17frames/s]\u001B[A\n",
      " 92%|███████████████████████████████████████████████████████████████████████████████████████████████████████████████████████████████████████████████████████████████████████████████████████████████████████████████████████████████████████████▏                   | 416/451 [00:01<00:00, 269.92frames/s]\u001B[A\n",
      "100%|███████████████████████████████████████████████████████████████████████████████████████████████████████████████████████████████████████████████████████████████████████████████████████████████████████████████████████████████████████████████████████████████| 451/451 [00:01<00:00, 269.00frames/s]\u001B[A\n"
     ]
    },
    {
     "name": "stdout",
     "output_type": "stream",
     "text": [
      "found 24 scenes - extracting 3 frames per scene\n"
     ]
    }
   ],
   "source": [
    "from tqdm.notebook import tqdm\n",
    "import shutil\n",
    "for video_path in tqdm(video_paths):\n",
    "    print(f\"processing video {os.path.basename(video_path)}\")\n",
    "    video_format, fps = get_video_format(video_path)\n",
    "    frame_paths = get_frames(video_path, tmp_dir,video_format, max_image_length=image_length_max )\n",
    "    scene_detector = SceneDetector(video_path, frame_paths, fps, None, verbose=False)\n",
    "    scene_df = scene_detector.detect_scenes(n_scene_frames, embedder)\n",
    "    print(f\"found {len(scene_df)} scenes - extracting {n_scene_frames} frames per scene\")\n",
    "    scene_frames = scene_df[scene_frame_col].tolist()\n",
    "    video_name = os.path.basename(video_path)\n",
    "    video_name = os.path.splitext(video_name)[0]\n",
    "    output_folder_video = os.path.join(output_folder, video_name)\n",
    "    if not os.path.isdir(output_folder_video):\n",
    "        os.makedirs(output_folder_video, exist_ok=True)\n",
    "    for i, scene_frame in enumerate(scene_frames):\n",
    "        folder_list = os.path.normpath(path).split(os.path.sep)\n",
    "        scene_frame_name = \"_\".join([video_name, str(i+1)])\n",
    "        scene_frame_name = scene_frame_name + \".jpg\"\n",
    "        scene_frame_path = os.path.join(output_folder_video, scene_frame_name)\n",
    "        shutil.copy2(scene_frame, scene_frame_path)\n",
    "\n",
    "    for f in frame_paths:\n",
    "        os.remove(f)"
   ],
   "metadata": {
    "collapsed": false
   }
  }
 ],
 "metadata": {
  "kernelspec": {
   "display_name": "Python 3",
   "language": "python",
   "name": "python3"
  },
  "language_info": {
   "codemirror_mode": {
    "name": "ipython",
    "version": 2
   },
   "file_extension": ".py",
   "mimetype": "text/x-python",
   "name": "python",
   "nbconvert_exporter": "python",
   "pygments_lexer": "ipython2",
   "version": "2.7.6"
  }
 },
 "nbformat": 4,
 "nbformat_minor": 0
}
