{
 "cells": [
  {
   "cell_type": "markdown",
   "metadata": {},
   "source": [
    "# Extract Scene Frames from Videos"
   ]
  },
  {
   "cell_type": "markdown",
   "metadata": {},
   "source": [
    "# required Input"
   ]
  },
  {
   "cell_type": "code",
   "execution_count": 27,
   "metadata": {
    "collapsed": false,
    "jupyter": {
     "outputs_hidden": false
    }
   },
   "outputs": [
    {
     "name": "stdout",
     "output_type": "stream",
     "text": [
      "The autoreload extension is already loaded. To reload it, use:\n",
      "  %reload_ext autoreload\n",
      "Project: 1_abc\n"
     ]
    }
   ],
   "source": [
    "import pandas as pd\n",
    "%load_ext autoreload\n",
    "%autoreload 2\n",
    "import os\n",
    "input_folder: str = os.path.join(\"test_video_frames\") # folder with (subfolders of) videos\n",
    "output_folder: str = os.path.join(\"output_video_frames\") # folder with extracted scene images (one subfolder per video), will be created if not existant\n",
    "project_number: str = \"1\"\n",
    "project_name: str = \"abc\"\n",
    "\n",
    "file_extensions_video = ['mpeg', 'mp4', 'gif', 'avi', 'mov']\n",
    "\n",
    "n_scene_frames = 3 #number of frames extracted per scene\n",
    "\n",
    "image_length_max = 500 # size of extracted frames\n",
    "\n",
    "from pathlib import Path\n",
    "project_folder = Path(input_folder).parent.absolute()\n",
    "project_title = \"_\".join([project_number, project_name])\n",
    "print(f\"Project: {project_title}\")"
   ]
  },
  {
   "cell_type": "code",
   "execution_count": 28,
   "metadata": {
    "collapsed": false,
    "jupyter": {
     "outputs_hidden": false
    }
   },
   "outputs": [],
   "source": [
    "import os\n",
    "try:\n",
    "    import scenedetect\n",
    "except:\n",
    "    os.system(\"pip install scenedetect==0.5.5 --quiet\")\n",
    "    pass\n",
    "\n",
    "try:\n",
    "    import cv2\n",
    "except:\n",
    "    os.system(\"pip install opencv-python==4.5.3.56 --quiet\")\n",
    "    pass\n",
    "\n",
    "try:\n",
    "    import timm\n",
    "except:\n",
    "    os.system(\"pip install timm\")\n",
    "    pass\n",
    "\n",
    "try:\n",
    "    import tqdm\n",
    "except:\n",
    "    os.system(\"pip install tqdm\")\n",
    "    pass\n",
    "\n",
    "try:\n",
    "    import sklearn\n",
    "except:\n",
    "    os.system(\"pip install scikit-learn --quiet\")\n",
    "    pass\n",
    "\n",
    "try:\n",
    "    import pandas_profiling\n",
    "except:\n",
    "    os.system(\"pip install pandas-profiling[notebook]\")\n",
    "    pass\n",
    "\n",
    "def load_timm_model(model_name=\"inception_v4\"):\n",
    "    model = timm.create_model(model_name, pretrained=True, num_classes=0)\n",
    "    model.eval()\n",
    "    return model"
   ]
  },
  {
   "cell_type": "code",
   "execution_count": 29,
   "metadata": {},
   "outputs": [],
   "source": [
    "def load_timm_model(model_name=\"inception_v4\"):\n",
    "    model = timm.create_model(model_name, pretrained=True, num_classes=0)\n",
    "    model.eval()\n",
    "    return model"
   ]
  },
  {
   "cell_type": "code",
   "execution_count": 30,
   "metadata": {
    "collapsed": false,
    "jupyter": {
     "outputs_hidden": false
    }
   },
   "outputs": [
    {
     "name": "stderr",
     "output_type": "stream",
     "text": [
      "c:\\Users\\venkatesh\\Python\\Lib\\site-packages\\timm\\models\\_factory.py:126: UserWarning: Mapping deprecated model name convnext_xlarge_in22k to current convnext_xlarge.fb_in22k.\n",
      "  model = create_fn(\n"
     ]
    },
    {
     "name": "stdout",
     "output_type": "stream",
     "text": [
      "model config {'input_size': (3, 224, 224), 'interpolation': 'bicubic', 'mean': (0.485, 0.456, 0.406), 'std': (0.229, 0.224, 0.225), 'crop_pct': 0.875, 'crop_mode': 'center'}\n"
     ]
    }
   ],
   "source": [
    "\n",
    "from src.image_utils import image_resize\n",
    "from src.embedder import Embedder\n",
    "from src.video_utils import get_video_format, get_frames\n",
    "\n",
    "scene_frame_col = \"scene_image_path\"\n",
    "timm_models = [\"convnext_xlarge_in22k\", \"ig_resnext101_32x48d\", \"vgg16\", \"resnet50d\"]\n",
    "embedder = Embedder(load_timm_model(timm_models[0]))\n",
    "\n",
    "tmp_dir = \"tmp\" #to store extracted frames, will be deleted once program is done\n",
    "if not os.path.isdir(tmp_dir):\n",
    "    os.makedirs(tmp_dir, exist_ok=True)\n",
    "\n",
    "if not os.path.isdir(output_folder):\n",
    "    os.makedirs(output_folder, exist_ok=True)\n"
   ]
  },
  {
   "cell_type": "code",
   "execution_count": 31,
   "metadata": {
    "collapsed": false,
    "jupyter": {
     "outputs_hidden": false
    }
   },
   "outputs": [
    {
     "name": "stdout",
     "output_type": "stream",
     "text": [
      "\n",
      "given defined file extensions,found 1 videos \n"
     ]
    }
   ],
   "source": [
    "import os\n",
    "video_paths = []\n",
    "for path, _, files in os.walk(input_folder):\n",
    "    for f in files:\n",
    "        f_ext = os.path.splitext(f)[1]\n",
    "        f_ext = f_ext.replace(\".\", \"\")\n",
    "        if f_ext in file_extensions_video:\n",
    "            video_paths.append(os.path.join(path, f))\n",
    "\n",
    "print(f\"\\ngiven defined file extensions,found {len(video_paths)} videos \")\n"
   ]
  },
  {
   "cell_type": "code",
   "execution_count": 32,
   "metadata": {
    "collapsed": false,
    "jupyter": {
     "outputs_hidden": false
    }
   },
   "outputs": [
    {
     "data": {
      "application/vnd.jupyter.widget-view+json": {
       "model_id": "434ec60a671841e195b06e9d504794de",
       "version_major": 2,
       "version_minor": 0
      },
      "text/plain": [
       "  0%|          | 0/1 [00:00<?, ?it/s]"
      ]
     },
     "metadata": {},
     "output_type": "display_data"
    },
    {
     "name": "stdout",
     "output_type": "stream",
     "text": [
      "processing video 100007-22_PL_Bądźmy mistrzami w burzeniu barier. Dołączasz_-1.mp4\n"
     ]
    },
    {
     "name": "stderr",
     "output_type": "stream",
     "text": [
      "VideoManager is deprecated and will be removed.\n"
     ]
    },
    {
     "name": "stdout",
     "output_type": "stream",
     "text": [
      "found 32 unique scenes with 93 total scene frames\n",
      "Copied: 100007-22_PL_Bądźmy mistrzami w burzeniu barier. Dołączasz_-1_scene_000_frame_001.jpg\n",
      "Copied: 100007-22_PL_Bądźmy mistrzami w burzeniu barier. Dołączasz_-1_scene_000_frame_002.jpg\n",
      "Copied: 100007-22_PL_Bądźmy mistrzami w burzeniu barier. Dołączasz_-1_scene_000_frame_003.jpg\n",
      "Copied: 100007-22_PL_Bądźmy mistrzami w burzeniu barier. Dołączasz_-1_scene_001_frame_004.jpg\n",
      "Copied: 100007-22_PL_Bądźmy mistrzami w burzeniu barier. Dołączasz_-1_scene_002_frame_005.jpg\n",
      "Copied: 100007-22_PL_Bądźmy mistrzami w burzeniu barier. Dołączasz_-1_scene_002_frame_006.jpg\n",
      "Copied: 100007-22_PL_Bądźmy mistrzami w burzeniu barier. Dołączasz_-1_scene_002_frame_007.jpg\n",
      "Copied: 100007-22_PL_Bądźmy mistrzami w burzeniu barier. Dołączasz_-1_scene_003_frame_008.jpg\n",
      "Copied: 100007-22_PL_Bądźmy mistrzami w burzeniu barier. Dołączasz_-1_scene_003_frame_009.jpg\n",
      "Copied: 100007-22_PL_Bądźmy mistrzami w burzeniu barier. Dołączasz_-1_scene_003_frame_010.jpg\n",
      "Copied: 100007-22_PL_Bądźmy mistrzami w burzeniu barier. Dołączasz_-1_scene_004_frame_011.jpg\n",
      "Copied: 100007-22_PL_Bądźmy mistrzami w burzeniu barier. Dołączasz_-1_scene_004_frame_012.jpg\n",
      "Copied: 100007-22_PL_Bądźmy mistrzami w burzeniu barier. Dołączasz_-1_scene_004_frame_013.jpg\n",
      "Copied: 100007-22_PL_Bądźmy mistrzami w burzeniu barier. Dołączasz_-1_scene_005_frame_014.jpg\n",
      "Copied: 100007-22_PL_Bądźmy mistrzami w burzeniu barier. Dołączasz_-1_scene_005_frame_015.jpg\n",
      "Copied: 100007-22_PL_Bądźmy mistrzami w burzeniu barier. Dołączasz_-1_scene_005_frame_016.jpg\n",
      "Copied: 100007-22_PL_Bądźmy mistrzami w burzeniu barier. Dołączasz_-1_scene_006_frame_017.jpg\n",
      "Copied: 100007-22_PL_Bądźmy mistrzami w burzeniu barier. Dołączasz_-1_scene_006_frame_018.jpg\n",
      "Copied: 100007-22_PL_Bądźmy mistrzami w burzeniu barier. Dołączasz_-1_scene_006_frame_019.jpg\n",
      "Copied: 100007-22_PL_Bądźmy mistrzami w burzeniu barier. Dołączasz_-1_scene_007_frame_020.jpg\n",
      "Copied: 100007-22_PL_Bądźmy mistrzami w burzeniu barier. Dołączasz_-1_scene_007_frame_021.jpg\n",
      "Copied: 100007-22_PL_Bądźmy mistrzami w burzeniu barier. Dołączasz_-1_scene_007_frame_022.jpg\n",
      "Copied: 100007-22_PL_Bądźmy mistrzami w burzeniu barier. Dołączasz_-1_scene_008_frame_023.jpg\n",
      "Copied: 100007-22_PL_Bądźmy mistrzami w burzeniu barier. Dołączasz_-1_scene_008_frame_024.jpg\n",
      "Copied: 100007-22_PL_Bądźmy mistrzami w burzeniu barier. Dołączasz_-1_scene_008_frame_025.jpg\n",
      "Copied: 100007-22_PL_Bądźmy mistrzami w burzeniu barier. Dołączasz_-1_scene_009_frame_026.jpg\n",
      "Copied: 100007-22_PL_Bądźmy mistrzami w burzeniu barier. Dołączasz_-1_scene_009_frame_027.jpg\n",
      "Copied: 100007-22_PL_Bądźmy mistrzami w burzeniu barier. Dołączasz_-1_scene_009_frame_028.jpg\n",
      "Copied: 100007-22_PL_Bądźmy mistrzami w burzeniu barier. Dołączasz_-1_scene_010_frame_029.jpg\n",
      "Copied: 100007-22_PL_Bądźmy mistrzami w burzeniu barier. Dołączasz_-1_scene_010_frame_030.jpg\n",
      "Copied: 100007-22_PL_Bądźmy mistrzami w burzeniu barier. Dołączasz_-1_scene_010_frame_031.jpg\n",
      "Copied: 100007-22_PL_Bądźmy mistrzami w burzeniu barier. Dołączasz_-1_scene_011_frame_032.jpg\n",
      "Copied: 100007-22_PL_Bądźmy mistrzami w burzeniu barier. Dołączasz_-1_scene_011_frame_033.jpg\n",
      "Copied: 100007-22_PL_Bądźmy mistrzami w burzeniu barier. Dołączasz_-1_scene_012_frame_034.jpg\n",
      "Copied: 100007-22_PL_Bądźmy mistrzami w burzeniu barier. Dołączasz_-1_scene_012_frame_035.jpg\n",
      "Copied: 100007-22_PL_Bądźmy mistrzami w burzeniu barier. Dołączasz_-1_scene_012_frame_036.jpg\n",
      "Copied: 100007-22_PL_Bądźmy mistrzami w burzeniu barier. Dołączasz_-1_scene_013_frame_037.jpg\n",
      "Copied: 100007-22_PL_Bądźmy mistrzami w burzeniu barier. Dołączasz_-1_scene_013_frame_038.jpg\n",
      "Copied: 100007-22_PL_Bądźmy mistrzami w burzeniu barier. Dołączasz_-1_scene_013_frame_039.jpg\n",
      "Copied: 100007-22_PL_Bądźmy mistrzami w burzeniu barier. Dołączasz_-1_scene_014_frame_040.jpg\n",
      "Copied: 100007-22_PL_Bądźmy mistrzami w burzeniu barier. Dołączasz_-1_scene_014_frame_041.jpg\n",
      "Copied: 100007-22_PL_Bądźmy mistrzami w burzeniu barier. Dołączasz_-1_scene_014_frame_042.jpg\n",
      "Copied: 100007-22_PL_Bądźmy mistrzami w burzeniu barier. Dołączasz_-1_scene_015_frame_043.jpg\n",
      "Copied: 100007-22_PL_Bądźmy mistrzami w burzeniu barier. Dołączasz_-1_scene_015_frame_044.jpg\n",
      "Copied: 100007-22_PL_Bądźmy mistrzami w burzeniu barier. Dołączasz_-1_scene_015_frame_045.jpg\n",
      "Copied: 100007-22_PL_Bądźmy mistrzami w burzeniu barier. Dołączasz_-1_scene_016_frame_046.jpg\n",
      "Copied: 100007-22_PL_Bądźmy mistrzami w burzeniu barier. Dołączasz_-1_scene_016_frame_047.jpg\n",
      "Copied: 100007-22_PL_Bądźmy mistrzami w burzeniu barier. Dołączasz_-1_scene_016_frame_048.jpg\n",
      "Copied: 100007-22_PL_Bądźmy mistrzami w burzeniu barier. Dołączasz_-1_scene_017_frame_049.jpg\n",
      "Copied: 100007-22_PL_Bądźmy mistrzami w burzeniu barier. Dołączasz_-1_scene_017_frame_050.jpg\n",
      "Copied: 100007-22_PL_Bądźmy mistrzami w burzeniu barier. Dołączasz_-1_scene_017_frame_051.jpg\n",
      "Copied: 100007-22_PL_Bądźmy mistrzami w burzeniu barier. Dołączasz_-1_scene_018_frame_052.jpg\n",
      "Copied: 100007-22_PL_Bądźmy mistrzami w burzeniu barier. Dołączasz_-1_scene_018_frame_053.jpg\n",
      "Copied: 100007-22_PL_Bądźmy mistrzami w burzeniu barier. Dołączasz_-1_scene_018_frame_054.jpg\n",
      "Copied: 100007-22_PL_Bądźmy mistrzami w burzeniu barier. Dołączasz_-1_scene_019_frame_055.jpg\n",
      "Copied: 100007-22_PL_Bądźmy mistrzami w burzeniu barier. Dołączasz_-1_scene_019_frame_056.jpg\n",
      "Copied: 100007-22_PL_Bądźmy mistrzami w burzeniu barier. Dołączasz_-1_scene_019_frame_057.jpg\n",
      "Copied: 100007-22_PL_Bądźmy mistrzami w burzeniu barier. Dołączasz_-1_scene_020_frame_058.jpg\n",
      "Copied: 100007-22_PL_Bądźmy mistrzami w burzeniu barier. Dołączasz_-1_scene_020_frame_059.jpg\n",
      "Copied: 100007-22_PL_Bądźmy mistrzami w burzeniu barier. Dołączasz_-1_scene_020_frame_060.jpg\n",
      "Copied: 100007-22_PL_Bądźmy mistrzami w burzeniu barier. Dołączasz_-1_scene_021_frame_061.jpg\n",
      "Copied: 100007-22_PL_Bądźmy mistrzami w burzeniu barier. Dołączasz_-1_scene_021_frame_062.jpg\n",
      "Copied: 100007-22_PL_Bądźmy mistrzami w burzeniu barier. Dołączasz_-1_scene_021_frame_063.jpg\n",
      "Copied: 100007-22_PL_Bądźmy mistrzami w burzeniu barier. Dołączasz_-1_scene_022_frame_064.jpg\n",
      "Copied: 100007-22_PL_Bądźmy mistrzami w burzeniu barier. Dołączasz_-1_scene_022_frame_065.jpg\n",
      "Copied: 100007-22_PL_Bądźmy mistrzami w burzeniu barier. Dołączasz_-1_scene_022_frame_066.jpg\n",
      "Copied: 100007-22_PL_Bądźmy mistrzami w burzeniu barier. Dołączasz_-1_scene_023_frame_067.jpg\n",
      "Copied: 100007-22_PL_Bądźmy mistrzami w burzeniu barier. Dołączasz_-1_scene_023_frame_068.jpg\n",
      "Copied: 100007-22_PL_Bądźmy mistrzami w burzeniu barier. Dołączasz_-1_scene_023_frame_069.jpg\n",
      "Copied: 100007-22_PL_Bądźmy mistrzami w burzeniu barier. Dołączasz_-1_scene_024_frame_070.jpg\n",
      "Copied: 100007-22_PL_Bądźmy mistrzami w burzeniu barier. Dołączasz_-1_scene_024_frame_071.jpg\n",
      "Copied: 100007-22_PL_Bądźmy mistrzami w burzeniu barier. Dołączasz_-1_scene_024_frame_072.jpg\n",
      "Copied: 100007-22_PL_Bądźmy mistrzami w burzeniu barier. Dołączasz_-1_scene_025_frame_073.jpg\n",
      "Copied: 100007-22_PL_Bądźmy mistrzami w burzeniu barier. Dołączasz_-1_scene_025_frame_074.jpg\n",
      "Copied: 100007-22_PL_Bądźmy mistrzami w burzeniu barier. Dołączasz_-1_scene_025_frame_075.jpg\n",
      "Copied: 100007-22_PL_Bądźmy mistrzami w burzeniu barier. Dołączasz_-1_scene_026_frame_076.jpg\n",
      "Copied: 100007-22_PL_Bądźmy mistrzami w burzeniu barier. Dołączasz_-1_scene_026_frame_077.jpg\n",
      "Copied: 100007-22_PL_Bądźmy mistrzami w burzeniu barier. Dołączasz_-1_scene_026_frame_078.jpg\n",
      "Copied: 100007-22_PL_Bądźmy mistrzami w burzeniu barier. Dołączasz_-1_scene_027_frame_079.jpg\n",
      "Copied: 100007-22_PL_Bądźmy mistrzami w burzeniu barier. Dołączasz_-1_scene_027_frame_080.jpg\n",
      "Copied: 100007-22_PL_Bądźmy mistrzami w burzeniu barier. Dołączasz_-1_scene_027_frame_081.jpg\n",
      "Copied: 100007-22_PL_Bądźmy mistrzami w burzeniu barier. Dołączasz_-1_scene_028_frame_082.jpg\n",
      "Copied: 100007-22_PL_Bądźmy mistrzami w burzeniu barier. Dołączasz_-1_scene_028_frame_083.jpg\n",
      "Copied: 100007-22_PL_Bądźmy mistrzami w burzeniu barier. Dołączasz_-1_scene_028_frame_084.jpg\n",
      "Copied: 100007-22_PL_Bądźmy mistrzami w burzeniu barier. Dołączasz_-1_scene_029_frame_085.jpg\n",
      "Copied: 100007-22_PL_Bądźmy mistrzami w burzeniu barier. Dołączasz_-1_scene_029_frame_086.jpg\n",
      "Copied: 100007-22_PL_Bądźmy mistrzami w burzeniu barier. Dołączasz_-1_scene_029_frame_087.jpg\n",
      "Copied: 100007-22_PL_Bądźmy mistrzami w burzeniu barier. Dołączasz_-1_scene_030_frame_088.jpg\n",
      "Copied: 100007-22_PL_Bądźmy mistrzami w burzeniu barier. Dołączasz_-1_scene_030_frame_089.jpg\n",
      "Copied: 100007-22_PL_Bądźmy mistrzami w burzeniu barier. Dołączasz_-1_scene_030_frame_090.jpg\n",
      "Copied: 100007-22_PL_Bądźmy mistrzami w burzeniu barier. Dołączasz_-1_scene_031_frame_091.jpg\n",
      "Copied: 100007-22_PL_Bądźmy mistrzami w burzeniu barier. Dołączasz_-1_scene_031_frame_092.jpg\n",
      "Copied: 100007-22_PL_Bądźmy mistrzami w burzeniu barier. Dołączasz_-1_scene_031_frame_093.jpg\n",
      "Successfully copied 93 scene frames to output_video_frames\\100007-22_PL_Bądźmy mistrzami w burzeniu barier. Dołączasz_-1\n",
      "\n",
      "Processing complete! Check the following locations:\n",
      "- Scene images: output_video_frames\n",
      "- Scene Excel files: output_video_frames\\scene_xlsx\n",
      "- Summary report: c:\\Users\\venkatesh\\OneDrive - decode Marketingberatung GmbH\\Dokumente\\video_scene_frame\\1_abc_video_scene_meta.xlsx\n"
     ]
    }
   ],
   "source": [
    "from tqdm.notebook import tqdm\n",
    "import shutil\n",
    "import os\n",
    "import pandas as pd\n",
    "import numpy as np\n",
    "from pathlib import Path\n",
    "from src.scene_detection import SceneDetector\n",
    "\n",
    "# Create scene xlsx folder\n",
    "scene_xlsx_folder = os.path.join(output_folder, \"scene_xlsx\")\n",
    "os.makedirs(scene_xlsx_folder, exist_ok=True)\n",
    "\n",
    "# Create scene metadata file path\n",
    "scene_meta_name = \"_\".join([project_title, \"video_scene_meta.xlsx\"])\n",
    "scene_meta_path = os.path.join(project_folder, scene_meta_name)\n",
    "\n",
    "results = []\n",
    "for video_path in tqdm(video_paths):\n",
    "    video_name = os.path.basename(video_path)\n",
    "    video_name_clean = os.path.splitext(video_name)[0]\n",
    "    \n",
    "    # Create output folder for this video FIRST\n",
    "    output_folder_video = os.path.join(output_folder, video_name_clean)\n",
    "    os.makedirs(output_folder_video, exist_ok=True)\n",
    "    \n",
    "    try:\n",
    "        print(f\"processing video {video_name}\")\n",
    "        video_format, fps = get_video_format(video_path)\n",
    "        frame_paths = get_frames(video_path, tmp_dir, video_format, max_image_length=image_length_max)\n",
    "        \n",
    "        scene_detector = SceneDetector(video_path=video_path, frame_paths=frame_paths, fps=fps, debug_handler=None, verbose=False)\n",
    "        scene_df = scene_detector.detect_scenes(n_scene_frames=n_scene_frames, embedder=embedder)\n",
    "        \n",
    "        # Map frame_path -> frame_id in scene detector\n",
    "        scene_df[\"scene_frame_id\"] = scene_df[\"scene_image_path\"].apply(lambda p: int(os.path.splitext(os.path.basename(p))[0]))\n",
    "        unique_scenes = scene_df[\"scene_number\"].unique().tolist()\n",
    "        print(f\"found {len(unique_scenes)} unique scenes with {len(scene_df)} total scene frames\")\n",
    "\n",
    "        # Add video metadata to scene dataframe\n",
    "        scene_df[\"video_path\"] = video_path\n",
    "        scene_df[\"video_name\"] = video_name_clean\n",
    "        \n",
    "        # COPY SCENE FRAMES TO OUTPUT FOLDER BEFORE CLEANUP\n",
    "        scene_frames = scene_df[\"scene_image_path\"].tolist()\n",
    "        copied_frame_paths = []\n",
    "        \n",
    "        for i, scene_frame in enumerate(scene_frames):\n",
    "            if os.path.exists(scene_frame):  # Check if source file exists\n",
    "                # Create meaningful filename with scene number and frame number\n",
    "                scene_num = scene_df.iloc[i][\"scene_number\"]\n",
    "                scene_frame_name = f\"{video_name_clean}_scene_{scene_num:03d}_frame_{i+1:03d}.jpg\"\n",
    "                scene_frame_output_path = os.path.join(output_folder_video, scene_frame_name)\n",
    "                \n",
    "                try:\n",
    "                    shutil.copy2(scene_frame, scene_frame_output_path)\n",
    "                    copied_frame_paths.append(scene_frame_output_path)\n",
    "                    print(f\"Copied: {scene_frame_name}\")\n",
    "                except Exception as copy_error:\n",
    "                    print(f\"Error copying {scene_frame}: {copy_error}\")\n",
    "            else:\n",
    "                print(f\"Warning: Scene frame not found: {scene_frame}\")\n",
    "        \n",
    "        print(f\"Successfully copied {len(copied_frame_paths)} scene frames to {output_folder_video}\")\n",
    "        \n",
    "        # Update scene_df with new paths for Excel file\n",
    "        scene_df_for_excel = scene_df.copy()\n",
    "        scene_df_for_excel[\"output_image_path\"] = copied_frame_paths[:len(scene_df_for_excel)]\n",
    "        \n",
    "        # Save scene dataframe to Excel (keep original paths for reference)\n",
    "        scene_xlsx_name = os.path.join(scene_xlsx_folder, video_name_clean + \".xlsx\")\n",
    "        scene_df_for_excel.to_excel(scene_xlsx_name, index=False)\n",
    "        \n",
    "        # Clean up temporary frame files AFTER copying\n",
    "        for f in frame_paths:\n",
    "            if os.path.exists(f):\n",
    "                os.remove(f)\n",
    "        \n",
    "        # Remove the temporary column from dataframe for results\n",
    "        if \"scene_image_path\" in scene_df.columns:\n",
    "            scene_df.drop(\"scene_image_path\", axis=1, inplace=True)\n",
    "        \n",
    "        num_unique_scenes = len(unique_scenes)\n",
    "        num_scene_frames = len(scene_df)\n",
    "        message = f\"ok - copied {len(copied_frame_paths)} images\"\n",
    "        \n",
    "    except Exception as e:\n",
    "        scene_xlsx_name = None\n",
    "        num_unique_scenes = np.nan\n",
    "        num_scene_frames = np.nan\n",
    "        message = str(e)\n",
    "        print(f\"!!!!!    Error processing {video_name}: {message}\")\n",
    "        \n",
    "        # Clean up temporary files even on error\n",
    "        try:\n",
    "            if 'frame_paths' in locals():\n",
    "                for f in frame_paths:\n",
    "                    if os.path.exists(f):\n",
    "                        os.remove(f)\n",
    "        except:\n",
    "            pass\n",
    "\n",
    "    results.append([video_path, video_name, scene_xlsx_name, num_unique_scenes, num_scene_frames, message])\n",
    "\n",
    "# Create and save results dataframe\n",
    "result_df = pd.DataFrame(results, columns=[\"video_path\", \"video_name\", \"scene_xlsx_path\", \"num_scenes\", \"num_scene_frames\", \"status\"])\n",
    "result_df.to_excel(scene_meta_path, index=False)\n",
    "\n",
    "print(f\"\\nProcessing complete! Check the following locations:\")\n",
    "print(f\"- Scene images: {output_folder}\")\n",
    "print(f\"- Scene Excel files: {scene_xlsx_folder}\")\n",
    "print(f\"- Summary report: {scene_meta_path}\")"
   ]
  },
  {
   "cell_type": "markdown",
   "metadata": {},
   "source": [
    "# Add Scene Statistics to result file"
   ]
  },
  {
   "cell_type": "code",
   "execution_count": null,
   "metadata": {
    "collapsed": false,
    "jupyter": {
     "outputs_hidden": false
    }
   },
   "outputs": [
    {
     "data": {
      "application/vnd.jupyter.widget-view+json": {
       "model_id": "23732109a82d403eb0a43d086fdc7098",
       "version_major": 2,
       "version_minor": 0
      },
      "text/plain": [
       "  0%|          | 0/1 [00:00<?, ?it/s]"
      ]
     },
     "metadata": {},
     "output_type": "display_data"
    },
    {
     "name": "stdout",
     "output_type": "stream",
     "text": [
      "Error processing video test_video_frames\\100007-22_PL_Bądźmy mistrzami w burzeniu barier. Dołączasz_-1.mp4: Index(['scene_number'], dtype='object')\n",
      "Processing complete!\n"
     ]
    },
    {
     "data": {
      "text/html": [
       "<div>\n",
       "<style scoped>\n",
       "    .dataframe tbody tr th:only-of-type {\n",
       "        vertical-align: middle;\n",
       "    }\n",
       "\n",
       "    .dataframe tbody tr th {\n",
       "        vertical-align: top;\n",
       "    }\n",
       "\n",
       "    .dataframe thead th {\n",
       "        text-align: right;\n",
       "    }\n",
       "</style>\n",
       "<table border=\"1\" class=\"dataframe\">\n",
       "  <thead>\n",
       "    <tr style=\"text-align: right;\">\n",
       "      <th></th>\n",
       "      <th>video_path</th>\n",
       "      <th>video_name</th>\n",
       "      <th>scene_xlsx_path</th>\n",
       "      <th>num_scenes</th>\n",
       "      <th>num_scene_frames</th>\n",
       "      <th>status</th>\n",
       "      <th>scene_duration_mean</th>\n",
       "      <th>video_duration</th>\n",
       "      <th>num_scenes_per_sec</th>\n",
       "      <th>num_scenes_first_5_sec</th>\n",
       "      <th>video_width</th>\n",
       "      <th>video_height</th>\n",
       "      <th>video_width_height_ratio</th>\n",
       "      <th>video_format</th>\n",
       "    </tr>\n",
       "  </thead>\n",
       "  <tbody>\n",
       "    <tr>\n",
       "      <th>0</th>\n",
       "      <td>test_video_frames\\100007-22_PL_Bądźmy mistrzam...</td>\n",
       "      <td>100007-22_PL_Bądźmy mistrzami w burzeniu barie...</td>\n",
       "      <td>output_video_frames\\scene_xlsx\\100007-22_PL_Bą...</td>\n",
       "      <td>NaN</td>\n",
       "      <td>93</td>\n",
       "      <td>ok - copied 93 images</td>\n",
       "      <td>NaN</td>\n",
       "      <td>NaN</td>\n",
       "      <td>NaN</td>\n",
       "      <td>NaN</td>\n",
       "      <td>NaN</td>\n",
       "      <td>NaN</td>\n",
       "      <td>NaN</td>\n",
       "      <td>NaN</td>\n",
       "    </tr>\n",
       "  </tbody>\n",
       "</table>\n",
       "</div>"
      ],
      "text/plain": [
       "                                          video_path  \\\n",
       "0  test_video_frames\\100007-22_PL_Bądźmy mistrzam...   \n",
       "\n",
       "                                          video_name  \\\n",
       "0  100007-22_PL_Bądźmy mistrzami w burzeniu barie...   \n",
       "\n",
       "                                     scene_xlsx_path  num_scenes  \\\n",
       "0  output_video_frames\\scene_xlsx\\100007-22_PL_Bą...         NaN   \n",
       "\n",
       "   num_scene_frames                 status  scene_duration_mean  \\\n",
       "0                93  ok - copied 93 images                  NaN   \n",
       "\n",
       "   video_duration  num_scenes_per_sec  num_scenes_first_5_sec  video_width  \\\n",
       "0             NaN                 NaN                     NaN          NaN   \n",
       "\n",
       "   video_height  video_width_height_ratio  video_format  \n",
       "0           NaN                       NaN           NaN  "
      ]
     },
     "execution_count": 38,
     "metadata": {},
     "output_type": "execute_result"
    }
   ],
   "source": [
    "import numpy as np\n",
    "import pandas as pd\n",
    "import cv2\n",
    "from PIL import Image\n",
    "from PIL.Image import Image as PIL_Image\n",
    "from typing import List\n",
    "from tqdm.notebook import tqdm\n",
    "\n",
    "def get_video_stats(capture):\n",
    "    \"\"\"Get video statistics from cv2.VideoCapture object\"\"\"\n",
    "    fps = int(capture.get(cv2.CAP_PROP_FPS))\n",
    "    num_frames = int(capture.get(cv2.CAP_PROP_FRAME_COUNT))\n",
    "    duration = num_frames / fps\n",
    "    return duration, num_frames, fps\n",
    "\n",
    "def get_frames_by_idx(capture, idx_lst: List[int]) -> List[np.ndarray]:\n",
    "    \"\"\"Extract frames by index from video capture\"\"\"\n",
    "    frames = []\n",
    "    for idx in idx_lst:\n",
    "        capture.set(cv2.CAP_PROP_POS_FRAMES, idx - 1)\n",
    "        ret, frame = capture.read()\n",
    "        if ret:  # Check if frame was successfully read\n",
    "            frames.append(cv2.cvtColor(frame, cv2.COLOR_BGR2RGB))\n",
    "        else:\n",
    "            print(f\"Warning: Could not read frame at index {idx}\")\n",
    "    return frames\n",
    "\n",
    "def get_video_format(img: PIL_Image):\n",
    "    \"\"\"Determine video format based on aspect ratio\"\"\"\n",
    "    if img.width > img.height:\n",
    "        format_type = \"horizontal\"\n",
    "    elif img.height > img.width:\n",
    "        format_type = \"vertical\"\n",
    "    else:\n",
    "        format_type = \"square\"\n",
    "    return format_type\n",
    "\n",
    "# Process each video in the results dataframe\n",
    "for idx, row in tqdm(result_df.iterrows(), total=len(result_df)):\n",
    "    try:\n",
    "        # Read scene data for this video\n",
    "        scene_df = pd.read_excel(row[\"scene_xlsx_path\"], index_col=0, engine=\"openpyxl\")\n",
    "        scene_df.drop_duplicates(subset=\"scene_number\", keep=\"first\", inplace=True)\n",
    "        \n",
    "        # Calculate scene statistics\n",
    "        result_df.loc[idx, \"scene_duration_mean\"] = scene_df[\"duration\"].mean()\n",
    "        result_df.loc[idx, \"num_scenes\"] = len(scene_df)\n",
    "\n",
    "        # Get video statistics\n",
    "        capture = cv2.VideoCapture(row[\"video_path\"])\n",
    "        if not capture.isOpened():\n",
    "            print(f\"Error: Could not open video {row['video_path']}\")\n",
    "            continue\n",
    "            \n",
    "        duration, num_frames, fps = get_video_stats(capture)\n",
    "        result_df.loc[idx, \"video_duration\"] = duration\n",
    "        result_df.loc[idx, \"num_scenes_per_sec\"] = len(scene_df) / duration if duration > 0 else 0\n",
    "        \n",
    "        # Calculate scenes in first 5 seconds\n",
    "        if duration > 5:\n",
    "            first_5_sec_df = scene_df[scene_df[\"end_time\"] <= 5]  # Use <= instead of <\n",
    "            result_df.loc[idx, \"num_scenes_first_5_sec\"] = len(first_5_sec_df)\n",
    "        elif duration >= 5:  # Handle case where duration is exactly 5\n",
    "            result_df.loc[idx, \"num_scenes_first_5_sec\"] = len(scene_df)\n",
    "        else:\n",
    "            result_df.loc[idx, \"num_scenes_first_5_sec\"] = len(scene_df)  # For videos shorter than 5 sec\n",
    "        \n",
    "        capture.release()\n",
    "\n",
    "        # Get frame dimensions and format\n",
    "        capture = cv2.VideoCapture(row[\"video_path\"])\n",
    "        if not capture.isOpened():\n",
    "            print(f\"Error: Could not reopen video {row['video_path']}\")\n",
    "            continue\n",
    "            \n",
    "        # Get scene frame indices, ensuring they're valid\n",
    "        scene_frame_ids = scene_df[\"scene_frame_id\"].tolist()\n",
    "        scene_frame_ids = [int(fid) for fid in scene_frame_ids if not pd.isna(fid)]\n",
    "        \n",
    "        if len(scene_frame_ids) == 0:\n",
    "            print(f\"Warning: No valid scene frame IDs for video {row['video_path']}\")\n",
    "            capture.release()\n",
    "            continue\n",
    "            \n",
    "        frames = get_frames_by_idx(capture, scene_frame_ids)\n",
    "        capture.release()\n",
    "        \n",
    "        if len(frames) == 0:\n",
    "            print(f\"Warning: No frames extracted for video {row['video_path']}\")\n",
    "            continue\n",
    "            \n",
    "        # Get video dimensions from first frame\n",
    "        img = Image.fromarray(frames[0])\n",
    "        result_df.loc[idx, \"video_width\"] = img.width\n",
    "        result_df.loc[idx, \"video_height\"] = img.height\n",
    "        result_df.loc[idx, \"video_width_height_ratio\"] = img.width / img.height\n",
    "        result_df.loc[idx, \"video_format\"] = get_video_format(img)\n",
    "        \n",
    "    except Exception as e:\n",
    "        print(f\"Error processing video {row['video_path']}: {str(e)}\")\n",
    "        # Fill with NaN values for failed processing\n",
    "        result_df.loc[idx, \"scene_duration_mean\"] = np.nan\n",
    "        result_df.loc[idx, \"num_scenes\"] = np.nan\n",
    "        result_df.loc[idx, \"video_duration\"] = np.nan\n",
    "        result_df.loc[idx, \"num_scenes_per_sec\"] = np.nan\n",
    "        result_df.loc[idx, \"num_scenes_first_5_sec\"] = np.nan\n",
    "        result_df.loc[idx, \"video_width\"] = np.nan\n",
    "        result_df.loc[idx, \"video_height\"] = np.nan\n",
    "        result_df.loc[idx, \"video_width_height_ratio\"] = np.nan\n",
    "        result_df.loc[idx, \"video_format\"] = np.nan\n",
    "\n",
    "# Save updated results\n",
    "result_df.to_excel(scene_meta_path, index=False)\n",
    "print(\"Processing complete!\")\n",
    "result_df.head()"
   ]
  },
  {
   "cell_type": "code",
   "execution_count": 39,
   "metadata": {
    "collapsed": false,
    "jupyter": {
     "outputs_hidden": false
    }
   },
   "outputs": [
    {
     "data": {
      "text/html": [
       "<div>\n",
       "<style scoped>\n",
       "    .dataframe tbody tr th:only-of-type {\n",
       "        vertical-align: middle;\n",
       "    }\n",
       "\n",
       "    .dataframe tbody tr th {\n",
       "        vertical-align: top;\n",
       "    }\n",
       "\n",
       "    .dataframe thead th {\n",
       "        text-align: right;\n",
       "    }\n",
       "</style>\n",
       "<table border=\"1\" class=\"dataframe\">\n",
       "  <thead>\n",
       "    <tr style=\"text-align: right;\">\n",
       "      <th></th>\n",
       "      <th>video_path</th>\n",
       "      <th>video_name</th>\n",
       "      <th>scene_xlsx_path</th>\n",
       "      <th>num_scenes</th>\n",
       "      <th>num_scene_frames</th>\n",
       "      <th>status</th>\n",
       "      <th>scene_duration_mean</th>\n",
       "      <th>video_duration</th>\n",
       "      <th>num_scenes_per_sec</th>\n",
       "      <th>num_scenes_first_5_sec</th>\n",
       "      <th>video_width</th>\n",
       "      <th>video_height</th>\n",
       "      <th>video_width_height_ratio</th>\n",
       "      <th>video_format</th>\n",
       "    </tr>\n",
       "  </thead>\n",
       "  <tbody>\n",
       "    <tr>\n",
       "      <th>0</th>\n",
       "      <td>test_video_frames\\100007-22_PL_Bądźmy mistrzam...</td>\n",
       "      <td>100007-22_PL_Bądźmy mistrzami w burzeniu barie...</td>\n",
       "      <td>output_video_frames\\scene_xlsx\\100007-22_PL_Bą...</td>\n",
       "      <td>NaN</td>\n",
       "      <td>93</td>\n",
       "      <td>ok - copied 93 images</td>\n",
       "      <td>NaN</td>\n",
       "      <td>NaN</td>\n",
       "      <td>NaN</td>\n",
       "      <td>NaN</td>\n",
       "      <td>NaN</td>\n",
       "      <td>NaN</td>\n",
       "      <td>NaN</td>\n",
       "      <td>NaN</td>\n",
       "    </tr>\n",
       "  </tbody>\n",
       "</table>\n",
       "</div>"
      ],
      "text/plain": [
       "                                          video_path  \\\n",
       "0  test_video_frames\\100007-22_PL_Bądźmy mistrzam...   \n",
       "\n",
       "                                          video_name  \\\n",
       "0  100007-22_PL_Bądźmy mistrzami w burzeniu barie...   \n",
       "\n",
       "                                     scene_xlsx_path  num_scenes  \\\n",
       "0  output_video_frames\\scene_xlsx\\100007-22_PL_Bą...         NaN   \n",
       "\n",
       "   num_scene_frames                 status  scene_duration_mean  \\\n",
       "0                93  ok - copied 93 images                  NaN   \n",
       "\n",
       "   video_duration  num_scenes_per_sec  num_scenes_first_5_sec  video_width  \\\n",
       "0             NaN                 NaN                     NaN          NaN   \n",
       "\n",
       "   video_height  video_width_height_ratio  video_format  \n",
       "0           NaN                       NaN           NaN  "
      ]
     },
     "execution_count": 39,
     "metadata": {},
     "output_type": "execute_result"
    }
   ],
   "source": [
    "result_df.head()"
   ]
  },
  {
   "cell_type": "markdown",
   "metadata": {},
   "source": [
    "# Create Profile HTML"
   ]
  },
  {
   "cell_type": "code",
   "execution_count": 40,
   "metadata": {
    "collapsed": false,
    "jupyter": {
     "outputs_hidden": false
    },
    "pycharm": {
     "is_executing": true
    }
   },
   "outputs": [
    {
     "data": {
      "application/vnd.jupyter.widget-view+json": {
       "model_id": "9397042b9b9240d98937e719d75aa34d",
       "version_major": 2,
       "version_minor": 0
      },
      "text/plain": [
       "Summarize dataset:   0%|          | 0/5 [00:00<?, ?it/s]"
      ]
     },
     "metadata": {},
     "output_type": "display_data"
    },
    {
     "name": "stderr",
     "output_type": "stream",
     "text": [
      "100%|██████████| 14/14 [00:00<00:00, 14014.38it/s]\n"
     ]
    },
    {
     "data": {
      "application/vnd.jupyter.widget-view+json": {
       "model_id": "3bcc56469d1046d792abb115988a8169",
       "version_major": 2,
       "version_minor": 0
      },
      "text/plain": [
       "Generate report structure:   0%|          | 0/1 [00:00<?, ?it/s]"
      ]
     },
     "metadata": {},
     "output_type": "display_data"
    },
    {
     "data": {
      "application/vnd.jupyter.widget-view+json": {
       "model_id": "73c52f55808f4d3bbce66eaae17baac1",
       "version_major": 2,
       "version_minor": 0
      },
      "text/plain": [
       "Render HTML:   0%|          | 0/1 [00:00<?, ?it/s]"
      ]
     },
     "metadata": {},
     "output_type": "display_data"
    },
    {
     "data": {
      "application/vnd.jupyter.widget-view+json": {
       "model_id": "725a77455440420bbf2c76011816cce5",
       "version_major": 2,
       "version_minor": 0
      },
      "text/plain": [
       "Export report to file:   0%|          | 0/1 [00:00<?, ?it/s]"
      ]
     },
     "metadata": {},
     "output_type": "display_data"
    }
   ],
   "source": [
    "from pandas_profiling import ProfileReport #https://github.com/ydataai/pandas-profiling?s=09\n",
    "\n",
    "profile = ProfileReport(result_df, title=project_title + \" Video Statistics\")\n",
    "profile.to_file(os.path.join(project_folder,\"_\".join([project_title, \"ebay_video_scenes.html\"])))\n"
   ]
  }
 ],
 "metadata": {
  "kernelspec": {
   "display_name": "Python 3",
   "language": "python",
   "name": "python3"
  },
  "language_info": {
   "codemirror_mode": {
    "name": "ipython",
    "version": 3
   },
   "file_extension": ".py",
   "mimetype": "text/x-python",
   "name": "python",
   "nbconvert_exporter": "python",
   "pygments_lexer": "ipython3",
   "version": "3.12.3"
  }
 },
 "nbformat": 4,
 "nbformat_minor": 4
}
